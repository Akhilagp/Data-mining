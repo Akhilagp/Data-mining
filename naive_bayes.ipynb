{
 "cells": [
  {
   "cell_type": "code",
   "execution_count": 1,
   "metadata": {},
   "outputs": [],
   "source": [
    "import pandas as pd\n",
    "import numpy as np\n",
    "import matplotlib.pyplot as plt\n",
    "import time\n",
    "from sklearn.model_selection import train_test_split\n",
    "from sklearn.naive_bayes import GaussianNB, BernoulliNB, MultinomialNB\n",
    "import seaborn as sns\n",
    "from sklearn.metrics import confusion_matrix"
   ]
  },
  {
   "cell_type": "code",
   "execution_count": 2,
   "metadata": {},
   "outputs": [
    {
     "data": {
      "text/html": [
       "<div>\n",
       "<style scoped>\n",
       "    .dataframe tbody tr th:only-of-type {\n",
       "        vertical-align: middle;\n",
       "    }\n",
       "\n",
       "    .dataframe tbody tr th {\n",
       "        vertical-align: top;\n",
       "    }\n",
       "\n",
       "    .dataframe thead th {\n",
       "        text-align: right;\n",
       "    }\n",
       "</style>\n",
       "<table border=\"1\" class=\"dataframe\">\n",
       "  <thead>\n",
       "    <tr style=\"text-align: right;\">\n",
       "      <th></th>\n",
       "      <th>age</th>\n",
       "      <th>gender</th>\n",
       "      <th>time_sleep</th>\n",
       "      <th>no_of_hrs</th>\n",
       "      <th>minutes_to_sleep</th>\n",
       "      <th>wake_up</th>\n",
       "      <th>day_sleep</th>\n",
       "      <th>tracker</th>\n",
       "      <th>use_tv</th>\n",
       "      <th>sleep_alone</th>\n",
       "      <th>sep_sleep_place</th>\n",
       "      <th>comfort</th>\n",
       "      <th>perf</th>\n",
       "      <th>trouble_sleep</th>\n",
       "      <th>trouble_back_to_sleep</th>\n",
       "      <th>medication</th>\n",
       "      <th>routine</th>\n",
       "      <th>rate</th>\n",
       "    </tr>\n",
       "  </thead>\n",
       "  <tbody>\n",
       "    <tr>\n",
       "      <th>0</th>\n",
       "      <td>20</td>\n",
       "      <td>1</td>\n",
       "      <td>1</td>\n",
       "      <td>1</td>\n",
       "      <td>2</td>\n",
       "      <td>0</td>\n",
       "      <td>1</td>\n",
       "      <td>1</td>\n",
       "      <td>1</td>\n",
       "      <td>2</td>\n",
       "      <td>1</td>\n",
       "      <td>3</td>\n",
       "      <td>2</td>\n",
       "      <td>2</td>\n",
       "      <td>3</td>\n",
       "      <td>3</td>\n",
       "      <td>1</td>\n",
       "      <td>3</td>\n",
       "    </tr>\n",
       "    <tr>\n",
       "      <th>1</th>\n",
       "      <td>20</td>\n",
       "      <td>0</td>\n",
       "      <td>1</td>\n",
       "      <td>2</td>\n",
       "      <td>0</td>\n",
       "      <td>0</td>\n",
       "      <td>0</td>\n",
       "      <td>0</td>\n",
       "      <td>0</td>\n",
       "      <td>0</td>\n",
       "      <td>2</td>\n",
       "      <td>2</td>\n",
       "      <td>1</td>\n",
       "      <td>3</td>\n",
       "      <td>3</td>\n",
       "      <td>3</td>\n",
       "      <td>2</td>\n",
       "      <td>4</td>\n",
       "    </tr>\n",
       "    <tr>\n",
       "      <th>2</th>\n",
       "      <td>20</td>\n",
       "      <td>0</td>\n",
       "      <td>1</td>\n",
       "      <td>1</td>\n",
       "      <td>0</td>\n",
       "      <td>0</td>\n",
       "      <td>0</td>\n",
       "      <td>1</td>\n",
       "      <td>0</td>\n",
       "      <td>0</td>\n",
       "      <td>0</td>\n",
       "      <td>5</td>\n",
       "      <td>3</td>\n",
       "      <td>3</td>\n",
       "      <td>3</td>\n",
       "      <td>3</td>\n",
       "      <td>0</td>\n",
       "      <td>4</td>\n",
       "    </tr>\n",
       "    <tr>\n",
       "      <th>3</th>\n",
       "      <td>20</td>\n",
       "      <td>2</td>\n",
       "      <td>2</td>\n",
       "      <td>2</td>\n",
       "      <td>0</td>\n",
       "      <td>0</td>\n",
       "      <td>2</td>\n",
       "      <td>1</td>\n",
       "      <td>1</td>\n",
       "      <td>0</td>\n",
       "      <td>1</td>\n",
       "      <td>5</td>\n",
       "      <td>1</td>\n",
       "      <td>3</td>\n",
       "      <td>3</td>\n",
       "      <td>3</td>\n",
       "      <td>1</td>\n",
       "      <td>4</td>\n",
       "    </tr>\n",
       "    <tr>\n",
       "      <th>4</th>\n",
       "      <td>17</td>\n",
       "      <td>0</td>\n",
       "      <td>0</td>\n",
       "      <td>2</td>\n",
       "      <td>0</td>\n",
       "      <td>0</td>\n",
       "      <td>3</td>\n",
       "      <td>1</td>\n",
       "      <td>1</td>\n",
       "      <td>2</td>\n",
       "      <td>2</td>\n",
       "      <td>4</td>\n",
       "      <td>0</td>\n",
       "      <td>2</td>\n",
       "      <td>1</td>\n",
       "      <td>2</td>\n",
       "      <td>0</td>\n",
       "      <td>4</td>\n",
       "    </tr>\n",
       "  </tbody>\n",
       "</table>\n",
       "</div>"
      ],
      "text/plain": [
       "   age  gender  time_sleep  no_of_hrs  minutes_to_sleep  wake_up  day_sleep  \\\n",
       "0   20       1           1          1                 2        0          1   \n",
       "1   20       0           1          2                 0        0          0   \n",
       "2   20       0           1          1                 0        0          0   \n",
       "3   20       2           2          2                 0        0          2   \n",
       "4   17       0           0          2                 0        0          3   \n",
       "\n",
       "   tracker  use_tv  sleep_alone  sep_sleep_place  comfort  perf  \\\n",
       "0        1       1            2                1        3     2   \n",
       "1        0       0            0                2        2     1   \n",
       "2        1       0            0                0        5     3   \n",
       "3        1       1            0                1        5     1   \n",
       "4        1       1            2                2        4     0   \n",
       "\n",
       "   trouble_sleep  trouble_back_to_sleep  medication  routine  rate  \n",
       "0              2                      3           3        1     3  \n",
       "1              3                      3           3        2     4  \n",
       "2              3                      3           3        0     4  \n",
       "3              3                      3           3        1     4  \n",
       "4              2                      1           2        0     4  "
      ]
     },
     "execution_count": 2,
     "metadata": {},
     "output_type": "execute_result"
    }
   ],
   "source": [
    "fil = pd.read_csv('fil1.csv')\n",
    "fil.head(5)"
   ]
  },
  {
   "cell_type": "code",
   "execution_count": 3,
   "metadata": {},
   "outputs": [
    {
     "name": "stdout",
     "output_type": "stream",
     "text": [
      "(134, 17)    age  gender  time_sleep  no_of_hrs  minutes_to_sleep  wake_up  day_sleep  \\\n",
      "0   20       1           1          1                 2        0          1   \n",
      "1   20       0           1          2                 0        0          0   \n",
      "2   20       0           1          1                 0        0          0   \n",
      "3   20       2           2          2                 0        0          2   \n",
      "4   17       0           0          2                 0        0          3   \n",
      "\n",
      "   tracker  use_tv  sleep_alone  sep_sleep_place  comfort  perf  \\\n",
      "0        1       1            2                1        3     2   \n",
      "1        0       0            0                2        2     1   \n",
      "2        1       0            0                0        5     3   \n",
      "3        1       1            0                1        5     1   \n",
      "4        1       1            2                2        4     0   \n",
      "\n",
      "   trouble_sleep  trouble_back_to_sleep  medication  routine  \n",
      "0              2                      3           3        1  \n",
      "1              3                      3           3        2  \n",
      "2              3                      3           3        0  \n",
      "3              3                      3           3        1  \n",
      "4              2                      1           2        0  \n",
      "(134, 1)    rate\n",
      "0     3\n",
      "1     4\n",
      "2     4\n",
      "3     4\n",
      "4     4\n"
     ]
    }
   ],
   "source": [
    "cols =  fil.columns.values\n",
    "X = fil[cols[:-1]]\n",
    "print X.shape,X.head(5)\n",
    "y = fil[cols[len(cols)-1:]]\n",
    "print y.shape,y.head(5)"
   ]
  },
  {
   "cell_type": "code",
   "execution_count": 4,
   "metadata": {},
   "outputs": [],
   "source": [
    "X_train,X_test,y_train,y_test = train_test_split(X,y, test_size=0.2, random_state=int(time.time()))"
   ]
  },
  {
   "cell_type": "code",
   "execution_count": 5,
   "metadata": {},
   "outputs": [
    {
     "name": "stdout",
     "output_type": "stream",
     "text": [
      "(107, 17) (107, 1)\n",
      "(27, 17) (27, 1)\n"
     ]
    }
   ],
   "source": [
    "print X_train.shape,y_train.shape\n",
    "print X_test.shape,y_test.shape"
   ]
  },
  {
   "cell_type": "code",
   "execution_count": 6,
   "metadata": {
    "scrolled": true
   },
   "outputs": [
    {
     "name": "stderr",
     "output_type": "stream",
     "text": [
      "/usr/local/lib/python2.7/dist-packages/sklearn/utils/validation.py:578: DataConversionWarning: A column-vector y was passed when a 1d array was expected. Please change the shape of y to (n_samples, ), for example using ravel().\n",
      "  y = column_or_1d(y, warn=True)\n"
     ]
    },
    {
     "data": {
      "text/plain": [
       "MultinomialNB(alpha=1.0, class_prior=None, fit_prior=True)"
      ]
     },
     "execution_count": 6,
     "metadata": {},
     "output_type": "execute_result"
    }
   ],
   "source": [
    "gnb = MultinomialNB()\n",
    "gnb.fit(X_train,y_train)"
   ]
  },
  {
   "cell_type": "code",
   "execution_count": 7,
   "metadata": {},
   "outputs": [
    {
     "name": "stdout",
     "output_type": "stream",
     "text": [
      "0.7037037037037037\n"
     ]
    }
   ],
   "source": [
    "print gnb.score(X_test,y_test)"
   ]
  },
  {
   "cell_type": "code",
   "execution_count": 8,
   "metadata": {},
   "outputs": [],
   "source": [
    "y_pred = gnb.predict(X_test)"
   ]
  },
  {
   "cell_type": "code",
   "execution_count": 9,
   "metadata": {},
   "outputs": [
    {
     "name": "stdout",
     "output_type": "stream",
     "text": [
      "[[ 0  0  0  0]\n",
      " [ 0  0  1  0]\n",
      " [ 1  2 14  1]\n",
      " [ 0  0  3  5]]\n"
     ]
    }
   ],
   "source": [
    "print confusion_matrix(y_pred,y_test)"
   ]
  },
  {
   "cell_type": "code",
   "execution_count": 28,
   "metadata": {},
   "outputs": [
    {
     "name": "stdout",
     "output_type": "stream",
     "text": [
      "[4] 4\n",
      "[3] 3\n",
      "[2] 3\n",
      "[3] 3\n",
      "[3] 3\n",
      "[3] 2\n",
      "[3] 3\n",
      "[4] 4\n",
      "[3] 3\n",
      "[4] 3\n",
      "[3] 3\n",
      "[3] 3\n",
      "[3] 3\n",
      "[4] 4\n",
      "[3] 3\n",
      "[3] 3\n",
      "[3] 4\n",
      "[3] 3\n",
      "[3] 4\n",
      "[3] 3\n",
      "[3] 4\n",
      "[4] 4\n",
      "[2] 3\n",
      "[1] 3\n",
      "[3] 3\n",
      "[3] 3\n",
      "[4] 4\n"
     ]
    }
   ],
   "source": [
    "for i in range(0,len(y_pred)):\n",
    "    print y_test.values[i],y_pred[i]"
   ]
  },
  {
   "cell_type": "code",
   "execution_count": null,
   "metadata": {},
   "outputs": [],
   "source": []
  }
 ],
 "metadata": {
  "kernelspec": {
   "display_name": "Python 2",
   "language": "python",
   "name": "python2"
  },
  "language_info": {
   "codemirror_mode": {
    "name": "ipython",
    "version": 2
   },
   "file_extension": ".py",
   "mimetype": "text/x-python",
   "name": "python",
   "nbconvert_exporter": "python",
   "pygments_lexer": "ipython2",
   "version": "2.7.12"
  }
 },
 "nbformat": 4,
 "nbformat_minor": 2
}
